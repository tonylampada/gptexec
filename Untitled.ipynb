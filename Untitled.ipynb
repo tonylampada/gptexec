{
 "cells": [
  {
   "cell_type": "code",
   "execution_count": 1,
   "id": "89143479-bf67-4737-a76f-3761cc82c0c4",
   "metadata": {},
   "outputs": [],
   "source": [
    "from chatlab import Conversation\n",
    "import openai\n",
    "import asyncio\n",
    "import os\n",
    "import json\n",
    "# openai.api_key = \"functionary\" # We just need to set this something other than None\n",
    "# os.environ['OPENAI_API_KEY'] = \"functionary\" # chatlab requires us to set this too\n",
    "# os.environ['OPENAI_BASE_URL'] = 'http://localhost:8000/v1'\n",
    "# openai.api_base = \"http://localhost:8000/v1\"\n",
    "\n",
    "# now provide the function with description\n",
    "def get_car_price(car_name: str):\n",
    "    \"\"\"this function is used to get the price of the car given the name\n",
    "    :param car_name: name of the car to get the price\n",
    "    \"\"\"\n",
    "    car_price = {\n",
    "        \"tang\": {\"price\": \"$20000\"},\n",
    "        \"song\": {\"price\": \"$25000\"} \n",
    "    }\n",
    "    for key in car_price:\n",
    "        if key in car_name.lower():\n",
    "            return {\"price\": car_price[key]}\n",
    "    return {\"price\": \"unknown\"}\n",
    "\n",
    "async def vai():\n",
    "    print(os.environ.get(\"OPENAI_BASE_URL\"))\n",
    "    # chat = Conversation(model=\"meetkai/functionary-7b-v1.1\")\n",
    "    chat = Conversation()\n",
    "    chat.register(get_car_price)  # register this function\n",
    "    await chat.submit(\"what is the price of the car named Tang?\") # submit user prompt\n",
    "    # await chat.submit(\"Qual o preço do carro chamado Tang?\") # submit user prompt\n",
    "    print(\"[sent prompt]\")\n",
    "\n",
    "    # print the flow\n",
    "    for message in chat.messages:\n",
    "        # print(json.dumps(message))\n",
    "        role = message[\"role\"].upper()\n",
    "        if \"function_call\" in message:\n",
    "            func_name = message[\"function_call\"][\"name\"]\n",
    "            func_param = message[\"function_call\"][\"arguments\"]\n",
    "            print(f\"{role}: call function: {func_name}, arguments:{func_param}\")\n",
    "        else:\n",
    "            content = message[\"content\"]\n",
    "            print(f\"{role}: {content}\")\n"
   ]
  },
  {
   "cell_type": "code",
   "execution_count": 2,
   "id": "d766a388-d095-463a-a034-0f514efa33b3",
   "metadata": {},
   "outputs": [
    {
     "data": {
      "text/plain": [
       "<coroutine object vai at 0x107b3d7e0>"
      ]
     },
     "execution_count": 2,
     "metadata": {},
     "output_type": "execute_result"
    }
   ],
   "source": [
    "vai()"
   ]
  },
  {
   "cell_type": "code",
   "execution_count": 3,
   "id": "a5d1d316-1b2d-4c4d-8488-b7d57ce9ed38",
   "metadata": {},
   "outputs": [
    {
     "ename": "RuntimeError",
     "evalue": "asyncio.run() cannot be called from a running event loop",
     "output_type": "error",
     "traceback": [
      "\u001b[0;31m---------------------------------------------------------------------------\u001b[0m",
      "\u001b[0;31mRuntimeError\u001b[0m                              Traceback (most recent call last)",
      "Cell \u001b[0;32mIn[3], line 1\u001b[0m\n\u001b[0;32m----> 1\u001b[0m \u001b[43masyncio\u001b[49m\u001b[38;5;241;43m.\u001b[39;49m\u001b[43mrun\u001b[49m\u001b[43m(\u001b[49m\u001b[43mvai\u001b[49m\u001b[43m(\u001b[49m\u001b[43m)\u001b[49m\u001b[43m)\u001b[49m\n",
      "File \u001b[0;32m/opt/homebrew/Cellar/python@3.11/3.11.3/Frameworks/Python.framework/Versions/3.11/lib/python3.11/asyncio/runners.py:186\u001b[0m, in \u001b[0;36mrun\u001b[0;34m(main, debug)\u001b[0m\n\u001b[1;32m    161\u001b[0m \u001b[38;5;250m\u001b[39m\u001b[38;5;124;03m\"\"\"Execute the coroutine and return the result.\u001b[39;00m\n\u001b[1;32m    162\u001b[0m \n\u001b[1;32m    163\u001b[0m \u001b[38;5;124;03mThis function runs the passed coroutine, taking care of\u001b[39;00m\n\u001b[0;32m   (...)\u001b[0m\n\u001b[1;32m    182\u001b[0m \u001b[38;5;124;03m    asyncio.run(main())\u001b[39;00m\n\u001b[1;32m    183\u001b[0m \u001b[38;5;124;03m\"\"\"\u001b[39;00m\n\u001b[1;32m    184\u001b[0m \u001b[38;5;28;01mif\u001b[39;00m events\u001b[38;5;241m.\u001b[39m_get_running_loop() \u001b[38;5;129;01mis\u001b[39;00m \u001b[38;5;129;01mnot\u001b[39;00m \u001b[38;5;28;01mNone\u001b[39;00m:\n\u001b[1;32m    185\u001b[0m     \u001b[38;5;66;03m# fail fast with short traceback\u001b[39;00m\n\u001b[0;32m--> 186\u001b[0m     \u001b[38;5;28;01mraise\u001b[39;00m \u001b[38;5;167;01mRuntimeError\u001b[39;00m(\n\u001b[1;32m    187\u001b[0m         \u001b[38;5;124m\"\u001b[39m\u001b[38;5;124masyncio.run() cannot be called from a running event loop\u001b[39m\u001b[38;5;124m\"\u001b[39m)\n\u001b[1;32m    189\u001b[0m \u001b[38;5;28;01mwith\u001b[39;00m Runner(debug\u001b[38;5;241m=\u001b[39mdebug) \u001b[38;5;28;01mas\u001b[39;00m runner:\n\u001b[1;32m    190\u001b[0m     \u001b[38;5;28;01mreturn\u001b[39;00m runner\u001b[38;5;241m.\u001b[39mrun(main)\n",
      "\u001b[0;31mRuntimeError\u001b[0m: asyncio.run() cannot be called from a running event loop"
     ]
    }
   ],
   "source": [
    "asyncio.run(vai())"
   ]
  }
 ],
 "metadata": {
  "kernelspec": {
   "display_name": "Python 3 (ipykernel)",
   "language": "python",
   "name": "python3"
  },
  "language_info": {
   "codemirror_mode": {
    "name": "ipython",
    "version": 3
   },
   "file_extension": ".py",
   "mimetype": "text/x-python",
   "name": "python",
   "nbconvert_exporter": "python",
   "pygments_lexer": "ipython3",
   "version": "3.11.3"
  }
 },
 "nbformat": 4,
 "nbformat_minor": 5
}
